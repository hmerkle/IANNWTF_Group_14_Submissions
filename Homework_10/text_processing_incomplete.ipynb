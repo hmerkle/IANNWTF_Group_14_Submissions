{
  "nbformat": 4,
  "nbformat_minor": 0,
  "metadata": {
    "colab": {
      "name": "text_processing_incomplete.ipynb",
      "provenance": [],
      "collapsed_sections": [],
      "mount_file_id": "1FFpKVZlmW_xPzpoPKRPcOAdYi12IlIDk",
      "authorship_tag": "ABX9TyMkcf0odj5zqkrLZVWBbbls",
      "include_colab_link": true
    },
    "kernelspec": {
      "name": "python3",
      "display_name": "Python 3"
    },
    "language_info": {
      "name": "python"
    }
  },
  "cells": [
    {
      "cell_type": "markdown",
      "metadata": {
        "id": "view-in-github",
        "colab_type": "text"
      },
      "source": [
        "<a href=\"https://colab.research.google.com/github/hmerkle/IANNWTF_Group_14_Submissions/blob/master/text_processing_incomplete.ipynb\" target=\"_parent\"><img src=\"https://colab.research.google.com/assets/colab-badge.svg\" alt=\"Open In Colab\"/></a>"
      ]
    },
    {
      "cell_type": "code",
      "execution_count": 21,
      "metadata": {
        "id": "17X-cWvKWMHE"
      },
      "outputs": [],
      "source": [
        "!pip install -q tensorflow-text\n",
        "import matplotlib.pyplot as plt\n",
        "import numpy as np\n",
        "import re\n",
        "import string\n",
        "\n",
        "import tensorflow as tf\n",
        "from keras.preprocessing.sequence import skipgrams \n",
        "from keras.preprocessing import text\n",
        "import tensorflow_text as tf_text\n",
        "import tensorflow_datasets as tfds\n",
        "from tensorflow.keras import layers\n",
        "from tensorflow.keras.layers import Dense, Dropout, Conv2D, Flatten, MaxPooling2D, Conv2DTranspose, Reshape, Activation, BatchNormalization, GlobalAvgPool2D\n",
        "\n",
        "from keras.layers.core import Dense, Reshape\n",
        "from keras.layers.embeddings import Embedding\n",
        "from keras.models import Model,Sequential"
      ]
    },
    {
      "cell_type": "code",
      "source": [
        "import os\n",
        "from google.colab import drive\n",
        "drive._mount('/content/drive')\n",
        "os.chdir('drive/MyDrive')"
      ],
      "metadata": {
        "colab": {
          "base_uri": "https://localhost:8080/"
        },
        "id": "wb-nHrJqWYSH",
        "outputId": "e62ade02-68f6-4155-bc53-ecf145347ea6"
      },
      "execution_count": 3,
      "outputs": [
        {
          "output_type": "stream",
          "name": "stdout",
          "text": [
            "Drive already mounted at /content/drive; to attempt to forcibly remount, call drive.mount(\"/content/drive\", force_remount=True).\n"
          ]
        }
      ]
    },
    {
      "cell_type": "markdown",
      "source": [
        "## Preprocessing"
      ],
      "metadata": {
        "id": "YrrVjxdPWfpk"
      }
    },
    {
      "cell_type": "markdown",
      "source": [
        "Get most_common_words"
      ],
      "metadata": {
        "id": "A6lunh-AWyv0"
      }
    },
    {
      "cell_type": "code",
      "source": [
        "def most_common_words(sentences): \n",
        "  tokenized = list(sum(sentences, []))\n",
        "  count = {}\n",
        "  for w in tokenized:\n",
        "    count[w] = count.get(w, 0) + 1  # create dictionary of words with counts\n",
        "\n",
        "  sorted_counts = dict(sorted(count.items(), key=lambda item: item[1], reverse=True))  #sort dictionary counts\n",
        "  #print(sorted_counts)\n",
        "  keys = [key for key in sorted_counts.keys()][:100]   #get only the words -> here 10 most common words\n",
        "\n",
        "  return keys"
      ],
      "metadata": {
        "id": "haJkMVEqWfVM"
      },
      "execution_count": 5,
      "outputs": []
    },
    {
      "cell_type": "code",
      "source": [
        "with open('bible.txt') as f:\n",
        "    file = f.readlines()\n",
        "\n",
        "file = file[:100]\n",
        "\n",
        "sentences = []\n",
        "for sentence in file:\n",
        "  if sentence != \"\\n\":\n",
        "    #sentence = sentence.rstrip(\"\\n\")\n",
        "    sentence = sentence.translate(str.maketrans('', '', string.digits))\n",
        "    sentence = sentence.translate(str.maketrans('', '', string.punctuation))\n",
        "    sentences.append(sentence.lower().split())\n",
        "print(\"sentences: \", sentences[:2])\n",
        "\n",
        "keys = most_common_words(sentences)\n",
        "print(\"keys: \", keys[:5])\n",
        "\n",
        "# all_tokens = list(sum(sentences, []))\n",
        "# print(\"all_tokens: \", all_tokens[:100])\n",
        "# most_common_tokens = [token for token in all_tokens if token in keys]\n",
        "# print(\"most_common_tokens: \", most_common_tokens[:100])\n",
        "\n",
        "# sentences with only most common tokens\n",
        "norm_bible = [[token for token in s if token in keys] for s in sentences]\n",
        "print(\"norm_bible: \", norm_bible[:2])\n",
        "\n",
        "norm_bible = [' '.join(tok_sent) for tok_sent in sentences]"
      ],
      "metadata": {
        "colab": {
          "base_uri": "https://localhost:8080/"
        },
        "id": "8sW7smAVWpKI",
        "outputId": "9975bf9f-1f5b-41b5-b504-0176bc5342b9"
      },
      "execution_count": 75,
      "outputs": [
        {
          "output_type": "stream",
          "name": "stdout",
          "text": [
            "sentences:  [['the', 'first', 'book', 'of', 'moses', 'called', 'genesis'], ['in', 'the', 'beginning', 'god', 'created', 'the', 'heaven', 'and', 'the', 'earth']]\n",
            "keys:  ['the', 'and', 'god', 'of', 'earth']\n",
            "norm_bible:  [['the', 'first', 'book', 'of', 'moses', 'called', 'genesis'], ['in', 'the', 'god', 'created', 'the', 'heaven', 'and', 'the', 'earth']]\n"
          ]
        }
      ]
    },
    {
      "cell_type": "markdown",
      "source": [
        "assigning numeric identifier"
      ],
      "metadata": {
        "id": "qGM7OCxoYVib"
      }
    },
    {
      "cell_type": "code",
      "source": [
        "tokenizer = text.Tokenizer()\n",
        "tokenizer.fit_on_texts(norm_bible)\n",
        "word_id = tokenizer.word_index\n",
        "\n",
        "id_word = {id:word for word, id in word_id.items()} #first index then word\n",
        "\n",
        "vocab_size = len(word_id) + 1 # padding included\n",
        "word_ids = [[word_id[id] for id in text.text_to_word_sequence(sent)] for sent in norm_bible]\n",
        "print('Vocabulary Size: ', vocab_size)\n",
        "print('Vocabulary Sample: ', list(word_id.items())[:5]) \n",
        "print(\"word_ids: \", word_ids[:2])"
      ],
      "metadata": {
        "colab": {
          "base_uri": "https://localhost:8080/"
        },
        "id": "kJY3aX2LYVL9",
        "outputId": "787d25b0-da23-4378-f6e2-059e4c7572e1"
      },
      "execution_count": 76,
      "outputs": [
        {
          "output_type": "stream",
          "name": "stdout",
          "text": [
            "Vocabulary Size:  151\n",
            "Vocabulary Sample:  [('the', 1), ('and', 2), ('god', 3), ('of', 4), ('earth', 5)]\n",
            "word_ids:  [[1, 65, 98, 4, 99, 28, 100], [8, 1, 101, 3, 34, 1, 25, 2, 1, 5]]\n"
          ]
        }
      ]
    },
    {
      "cell_type": "code",
      "source": [
        "# generate skip-grams\n",
        "skip_grams = [skipgrams(w_id, vocabulary_size=vocab_size, window_size=4, negative_samples = 0.0) for w_id in word_ids]\n",
        "\n",
        "# view sample skip-grams\n",
        "pairs, labels = skip_grams[0][0], skip_grams[0][1]\n",
        "\n",
        "for i in range(5):\n",
        "    print(\"({:s} ({:d}), {:s} ({:d}))\".format(\n",
        "          id_word[pairs[i][0]], pairs[i][0], \n",
        "          id_word[pairs[i][1]], pairs[i][1])) "
      ],
      "metadata": {
        "colab": {
          "base_uri": "https://localhost:8080/"
        },
        "id": "Vz3P7V5TY-is",
        "outputId": "d6bb2082-e2d8-4710-b313-e18aa80fd305"
      },
      "execution_count": 72,
      "outputs": [
        {
          "output_type": "stream",
          "name": "stdout",
          "text": [
            "(book (98), genesis (100))\n",
            "(genesis (100), of (4))\n",
            "(the (1), moses (99))\n",
            "(first (65), book (98))\n",
            "(of (4), the (1))\n"
          ]
        }
      ]
    },
    {
      "cell_type": "markdown",
      "source": [
        "List of Skipgrams with word ids"
      ],
      "metadata": {
        "id": "5ha0dL5ta4wl"
      }
    },
    {
      "cell_type": "code",
      "source": [
        "# keep only wird ids\n",
        "list_pairs = []\n",
        "for pair, _ in skip_grams:\n",
        "  list_pairs.append(pair)\n",
        "\n",
        "#flatten list\n",
        "flat_list = []\n",
        "for sublist in list_pairs:\n",
        "  for item in sublist:\n",
        "    flat_list.append(item)\n",
        "\n",
        "word_pairs_array = np.array(flat_list)\n",
        "print(word_pairs_array[:3])"
      ],
      "metadata": {
        "colab": {
          "base_uri": "https://localhost:8080/"
        },
        "id": "mRAfRubPajuD",
        "outputId": "36501ece-7628-4e04-f97a-a84167166875"
      },
      "execution_count": 61,
      "outputs": [
        {
          "output_type": "stream",
          "name": "stdout",
          "text": [
            "[[100  98]\n",
            " [ 99  98]\n",
            " [  1   4]]\n"
          ]
        }
      ]
    },
    {
      "cell_type": "markdown",
      "source": [
        "Create tensor dataset"
      ],
      "metadata": {
        "id": "0s-QqFy4kBrb"
      }
    },
    {
      "cell_type": "code",
      "source": [
        "word_pairs_tensor =tf.data.Dataset.from_tensor_slices((word_pairs_array[:,0], word_pairs_array[:,1])) # create our data_set with inputs and targets\n",
        "prepared_ds = word_pairs_tensor.shuffle(1000).batch(32).prefetch(32)"
      ],
      "metadata": {
        "id": "xV32zOr_fyda"
      },
      "execution_count": 64,
      "outputs": []
    },
    {
      "cell_type": "markdown",
      "source": [
        "# Model"
      ],
      "metadata": {
        "id": "wrnJj6sGZgF5"
      }
    },
    {
      "cell_type": "code",
      "source": [
        "class SkipGram(tf.keras.layers.Layer):\n",
        "    def __init__(self, vocab_size, embedding_size):\n",
        "        super(SkipGram, self).__init__()\n",
        "        self.vocab_size = vocab_size\n",
        "        self.embedding_size = embedding_size\n",
        "\n",
        "        self.build()\n",
        "\n",
        "    def build(self, input_shape):\n",
        "      self.emb_matrix = self.add_weight(\n",
        "          shape=(self.vocab_size, self.embedding_size),\n",
        "          initializer='GlorotNormal'\n",
        "          )\n",
        "      self.score_matrix = self.add_weight(\n",
        "          shape=(self.vocab_size, self.embedding_size),\n",
        "          initializer='GlorotNormal'\n",
        "          )\n",
        "      self.score_bias = self.add_weight(\n",
        "          shape=(self.vocab_size),\n",
        "          initializer='zeros'\n",
        "          )\n",
        "\n",
        "    def call(self, input, labels):\n",
        "        embeddings = tf.nn.embedding_lookup(self.emb_matrix,inputs)\n",
        "        nce_loss = tf.nn.nce_loss(\n",
        "            weights = self.score_matrix,\n",
        "            biases = self.score_bias,\n",
        "            labels = labels,\n",
        "            inputs = embeddings,\n",
        "            num_sampled = 15,\n",
        "            num_classes = self.vocab\n",
        "            )\n",
        "        loss = tf.reduce_mean(nce_loss)\n",
        "        return loss"
      ],
      "metadata": {
        "id": "FDEfCBekZ7sM"
      },
      "execution_count": 69,
      "outputs": []
    },
    {
      "cell_type": "markdown",
      "source": [
        "# Training"
      ],
      "metadata": {
        "id": "O75zOF-SbG1c"
      }
    },
    {
      "cell_type": "code",
      "source": [
        "def nearest_neighbours(model, k):\n",
        "  embeddings = \n",
        "    for word in check_words:\n",
        "        word_embedding = \n",
        "        cosine_sim = -dot(embeddings, word_embedding)/(norm(embeddings)*norm(word_embedding))\n",
        "        nearest_neighbours = np.argsort(cosine_sim)[:k]\n",
        "        print(\"to Word \", word,\" the nearest neighbours are\",.join([id2word[n] for n in nearest_neighbours )"
      ],
      "metadata": {
        "colab": {
          "base_uri": "https://localhost:8080/",
          "height": 131
        },
        "id": "vyLdjTuOoZ2S",
        "outputId": "3e74d6e1-8965-4681-acd4-453113b08a9f"
      },
      "execution_count": 70,
      "outputs": [
        {
          "output_type": "error",
          "ename": "SyntaxError",
          "evalue": "ignored",
          "traceback": [
            "\u001b[0;36m  File \u001b[0;32m\"<ipython-input-70-f20b2e1d2f60>\"\u001b[0;36m, line \u001b[0;32m2\u001b[0m\n\u001b[0;31m    embeddings =\u001b[0m\n\u001b[0m                 ^\u001b[0m\n\u001b[0;31mSyntaxError\u001b[0m\u001b[0;31m:\u001b[0m invalid syntax\n"
          ]
        }
      ]
    },
    {
      "cell_type": "code",
      "source": [
        "tf.keras.backend.clear_session()\n",
        "\n",
        "# define hyperparams\n",
        "learning_rate = 0.01\n",
        "num_epochs = 10\n",
        "embedding_size = 64\n",
        "k = 5\n",
        "\n",
        "model = SkipGram(vocab_size, embedding_size)\n",
        "optimizer = tf.optimizers.Adam(learning_rate)\n",
        "check_words= [\"holy\", \"father\", \"wine\", \"poison\", \"love\", \"strong\", \"day\" ]\n",
        "\n",
        "losses = []\n",
        "\n",
        "# We train for num_epochs epochs.\n",
        "for epoch in range(num_epochs):\n",
        "    print(f'Epoch {str(epoch)}')\n",
        "\n",
        "    #training\n",
        "    epoch_loss_agg = []\n",
        "    for input,target in prepared_ds:\n",
        "\n",
        "      with tf.GradientTape() as tape:\n",
        "        loss = model(input, target) # get the loss\n",
        "      gradients = tape.gradient(loss, model.trainable_variables)\n",
        "      optimizer.apply_gradients(zip(gradients, model.trainable_variables))\n",
        "      epoch_loss_agg.append(loss)\n",
        "                   \n",
        "    losses.append(tf.reduce_mean(epoch_loss_agg))\n",
        "    \n",
        "    print(f'Epoch: {str(epoch)} with loss {losses[-1]}')\n",
        "\n",
        "    # after each epoch k nearest words\n",
        "    nearest_neighbours(model, k)\n"
      ],
      "metadata": {
        "colab": {
          "base_uri": "https://localhost:8080/",
          "height": 356
        },
        "id": "cguPm-zSbF27",
        "outputId": "19ebd0b2-e177-486d-f6be-56b8219d5d06"
      },
      "execution_count": 71,
      "outputs": [
        {
          "output_type": "error",
          "ename": "TypeError",
          "evalue": "ignored",
          "traceback": [
            "\u001b[0;31m---------------------------------------------------------------------------\u001b[0m",
            "\u001b[0;31mTypeError\u001b[0m                                 Traceback (most recent call last)",
            "\u001b[0;32m<ipython-input-71-73542eb4a0bb>\u001b[0m in \u001b[0;36m<module>\u001b[0;34m()\u001b[0m\n\u001b[1;32m      7\u001b[0m \u001b[0mk\u001b[0m \u001b[0;34m=\u001b[0m \u001b[0;36m5\u001b[0m\u001b[0;34m\u001b[0m\u001b[0;34m\u001b[0m\u001b[0m\n\u001b[1;32m      8\u001b[0m \u001b[0;34m\u001b[0m\u001b[0m\n\u001b[0;32m----> 9\u001b[0;31m \u001b[0mmodel\u001b[0m \u001b[0;34m=\u001b[0m \u001b[0mSkipGram\u001b[0m\u001b[0;34m(\u001b[0m\u001b[0mvocab_size\u001b[0m\u001b[0;34m,\u001b[0m \u001b[0membedding_size\u001b[0m\u001b[0;34m)\u001b[0m\u001b[0;34m\u001b[0m\u001b[0;34m\u001b[0m\u001b[0m\n\u001b[0m\u001b[1;32m     10\u001b[0m \u001b[0moptimizer\u001b[0m \u001b[0;34m=\u001b[0m \u001b[0mtf\u001b[0m\u001b[0;34m.\u001b[0m\u001b[0moptimizers\u001b[0m\u001b[0;34m.\u001b[0m\u001b[0mAdam\u001b[0m\u001b[0;34m(\u001b[0m\u001b[0mlearning_rate\u001b[0m\u001b[0;34m)\u001b[0m\u001b[0;34m\u001b[0m\u001b[0;34m\u001b[0m\u001b[0m\n\u001b[1;32m     11\u001b[0m \u001b[0mcheck_words\u001b[0m\u001b[0;34m=\u001b[0m \u001b[0;34m[\u001b[0m\u001b[0;34m\"holy\"\u001b[0m\u001b[0;34m,\u001b[0m \u001b[0;34m\"father\"\u001b[0m\u001b[0;34m,\u001b[0m \u001b[0;34m\"wine\"\u001b[0m\u001b[0;34m,\u001b[0m \u001b[0;34m\"poison\"\u001b[0m\u001b[0;34m,\u001b[0m \u001b[0;34m\"love\"\u001b[0m\u001b[0;34m,\u001b[0m \u001b[0;34m\"strong\"\u001b[0m\u001b[0;34m,\u001b[0m \u001b[0;34m\"day\"\u001b[0m \u001b[0;34m]\u001b[0m\u001b[0;34m\u001b[0m\u001b[0;34m\u001b[0m\u001b[0m\n",
            "\u001b[0;32m<ipython-input-69-06a4222b5aa5>\u001b[0m in \u001b[0;36m__init__\u001b[0;34m(self, vocab_size, embedding_size)\u001b[0m\n\u001b[1;32m      5\u001b[0m         \u001b[0mself\u001b[0m\u001b[0;34m.\u001b[0m\u001b[0membedding_size\u001b[0m \u001b[0;34m=\u001b[0m \u001b[0membedding_size\u001b[0m\u001b[0;34m\u001b[0m\u001b[0;34m\u001b[0m\u001b[0m\n\u001b[1;32m      6\u001b[0m \u001b[0;34m\u001b[0m\u001b[0m\n\u001b[0;32m----> 7\u001b[0;31m         \u001b[0mself\u001b[0m\u001b[0;34m.\u001b[0m\u001b[0mbuild\u001b[0m\u001b[0;34m(\u001b[0m\u001b[0;34m)\u001b[0m\u001b[0;34m\u001b[0m\u001b[0;34m\u001b[0m\u001b[0m\n\u001b[0m\u001b[1;32m      8\u001b[0m \u001b[0;34m\u001b[0m\u001b[0m\n\u001b[1;32m      9\u001b[0m     \u001b[0;32mdef\u001b[0m \u001b[0mbuild\u001b[0m\u001b[0;34m(\u001b[0m\u001b[0mself\u001b[0m\u001b[0;34m,\u001b[0m \u001b[0minput_shape\u001b[0m\u001b[0;34m)\u001b[0m\u001b[0;34m:\u001b[0m\u001b[0;34m\u001b[0m\u001b[0;34m\u001b[0m\u001b[0m\n",
            "\u001b[0;31mTypeError\u001b[0m: build() missing 1 required positional argument: 'input_shape'"
          ]
        }
      ]
    }
  ]
}
