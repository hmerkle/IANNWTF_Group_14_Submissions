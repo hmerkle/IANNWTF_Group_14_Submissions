{
  "nbformat": 4,
  "nbformat_minor": 0,
  "metadata": {
    "colab": {
      "name": "LSTM_hanna.ipynb",
      "provenance": [],
      "collapsed_sections": [],
      "include_colab_link": true
    },
    "kernelspec": {
      "name": "python3",
      "display_name": "Python 3"
    },
    "language_info": {
      "name": "python"
    }
  },
  "cells": [
    {
      "cell_type": "markdown",
      "metadata": {
        "id": "view-in-github",
        "colab_type": "text"
      },
      "source": [
        "<a href=\"https://colab.research.google.com/github/hmerkle/IANNWTF_Group_14_Submissions/blob/master/LSTM_hanna.ipynb\" target=\"_parent\"><img src=\"https://colab.research.google.com/assets/colab-badge.svg\" alt=\"Open In Colab\"/></a>"
      ]
    },
    {
      "cell_type": "markdown",
      "source": [
        "# Imports"
      ],
      "metadata": {
        "id": "O7Ke8GR6MEkK"
      }
    },
    {
      "cell_type": "code",
      "execution_count": 1,
      "metadata": {
        "id": "hQKcKvNWGhVt"
      },
      "outputs": [],
      "source": [
        "import tensorflow as tf\n",
        "from tensorflow.keras.layers import Dense, Layer\n",
        "from tensorflow.keras import activations, initializers, regularizers\n",
        "import numpy as np\n",
        "import matplotlib.pyplot as plt"
      ]
    },
    {
      "cell_type": "markdown",
      "source": [
        "# Creating the data set"
      ],
      "metadata": {
        "id": "sjL7MheRwNMT"
      }
    },
    {
      "cell_type": "code",
      "source": [
        "def integration_task(seq_len, num_samples):\n",
        "    # This function should for num samples times yield a random noise signal of the size seq_len \n",
        "    # sequence length = number of time steps we are considering\n",
        "    for sample in range(num_samples):\n",
        "      n = np.random.normal(size = seq_len)\n",
        "      yield np.expand_dims(n, -1), np.expand_dims(int(np.sum(n) > 1), -1)\n",
        "\n",
        "\n",
        "# wrapper generator\n",
        "def my_integration_task():\n",
        "  seq_len = 25\n",
        "  num_samples = 80000\n",
        "  #  iterating through integration task with specified seq len and num samples - yielding functions yield\n",
        "  for gen in integration_task(seq_len, num_samples):\n",
        "    yield gen"
      ],
      "metadata": {
        "id": "YdxmDxROHkWm"
      },
      "execution_count": 2,
      "outputs": []
    },
    {
      "cell_type": "markdown",
      "source": [
        "##Prepare Dataset"
      ],
      "metadata": {
        "id": "G0nl36aDNgaz"
      }
    },
    {
      "cell_type": "code",
      "source": [
        "def prepare_data(ds):\n",
        "  #shuffle, batch, prefetch\n",
        "  ds = ds.shuffle(1000)\n",
        "  ds = ds.batch(batch_size)\n",
        "  ds = ds.prefetch(300)\n",
        "  return ds"
      ],
      "metadata": {
        "id": "Ro2AnDIAkJYj"
      },
      "execution_count": 3,
      "outputs": []
    },
    {
      "cell_type": "markdown",
      "source": [
        "# Train and Test functions"
      ],
      "metadata": {
        "id": "Ogx7sMYWOL-R"
      }
    },
    {
      "cell_type": "code",
      "source": [
        "#Description: This function trains an object of the class MyModel. It conducts a forward-step and the backpropagation \n",
        "#             throughout the network. The optimizer updates weights and biases. \n",
        "#             Inputs: model, inputs, target, loss function, optimizer\n",
        "#             Outputs:loss, accuracy\n",
        "def train_step(model, inputs, target, loss_function, optimizer):\n",
        "  # loss_object and optimizer_object are instances of respective tensorflow classes\n",
        "  with tf.GradientTape() as tape:\n",
        "      prediction = model(inputs)[-1]\n",
        "      loss = loss_function(target, prediction)\n",
        "      sample_train_accuracy =  target == np.round(prediction)\n",
        "      sample_train_accuracy = np.mean(sample_train_accuracy)\n",
        "  gradients = tape.gradient(loss, model.trainable_variables)\n",
        "  optimizer.apply_gradients(zip(gradients, model.trainable_variables))\n",
        "  return loss, sample_train_accuracy\n",
        "\n",
        "#Description: This function determines the test loss and test accuracy through a forward step in the network.\n",
        "#             Inputs: model, test data, loss function\n",
        "#             Outputs: test loss, test accuracy\n",
        "def test(model, test_data, loss_function):\n",
        "  test_accuracy_aggregator = []\n",
        "  test_loss_aggregator = []\n",
        "\n",
        "  for (input, target) in test_data:\n",
        "      prediction = model(input)[-1]       \n",
        "      sample_test_loss = loss_function(target, prediction)\n",
        "      sample_test_accuracy =  target == np.round(prediction)\n",
        "      sample_test_accuracy = np.mean(sample_test_accuracy)\n",
        "      test_loss_aggregator.append(sample_test_loss.numpy())\n",
        "      test_accuracy_aggregator.append(np.mean(sample_test_accuracy))\n",
        "\n",
        "  test_loss = tf.reduce_mean(test_loss_aggregator)\n",
        "  test_accuracy = tf.reduce_mean(test_accuracy_aggregator)\n",
        "\n",
        "  return test_loss, test_accuracy"
      ],
      "metadata": {
        "id": "LxbeITs1OKxS"
      },
      "execution_count": 4,
      "outputs": []
    },
    {
      "cell_type": "markdown",
      "source": [
        "# The network"
      ],
      "metadata": {
        "id": "EietULWwwodj"
      }
    },
    {
      "cell_type": "markdown",
      "source": [
        "##Cell"
      ],
      "metadata": {
        "id": "ZGagGmzULExS"
      }
    },
    {
      "cell_type": "code",
      "source": [
        "# Implement a LSTM_cell\n",
        "# input for a single times step and a tuple containing (hidden state, cell state) # input, (hidden_state, cell_state)\n",
        "class LSTM_cell(tf.keras.layers.Layer):\n",
        "\n",
        "  def __init__(self, units, kernel_regularizer = regularizers.L2(0.01)):\n",
        "\n",
        "    super(LSTM_cell, self).__init__()\n",
        "\n",
        "    self.units = units\n",
        "\n",
        "    # forget state  \n",
        "    self.dense_hstate = tf.keras.layers.Dense(units, activation = 'sigmoid', kernel_regularizer=kernel_regularizer, bias_initializer = initializers.Ones())\n",
        "    # input state\n",
        "    self.dense_input = tf.keras.layers.Dense(units, activation = 'sigmoid', kernel_regularizer=kernel_regularizer, use_bias=False)\n",
        "    \n",
        "    # new cell state\n",
        "    self.dense_new = tf.keras.layers.Dense(units, activation = 'tanh', kernel_regularizer=kernel_regularizer, use_bias=False)\n",
        "    # new output\n",
        "    self.dense_output = tf.keras.layers.Dense(units, activation = 'sigmoid', kernel_regularizer=kernel_regularizer, use_bias=False)\n",
        "    \n",
        "    # final activation\n",
        "    self.final_activation = activations.tanh\n",
        "\n",
        "\n",
        "  #@tf.function\n",
        "  def __call__(self, input_t, states):\n",
        "    h_prev, c_prev = states\n",
        "\n",
        "    sum = tf.concat( (input_t, h_prev), axis=1)\n",
        "\n",
        "    # input gate\n",
        "    #i_t=σ(W_xi* x_t + W_hi* h_t−1 + b_i )\n",
        "    i_t = self.dense_input(sum)\n",
        "\n",
        "    # forget gate\n",
        "    #f_t=σ(W_xf* x_t + W_hf* h_t-1 + b_f)\n",
        "    f_t = self.dense_hstate(sum)\n",
        "\n",
        "    # new cell gate -> updating cell memory\n",
        "    #c_t = f_t . c_t-1 + i_t . tanh(W_xc * x_t + W_hc * h_t-1 + b_c)\n",
        "    c_t = self.dense_new(sum)\n",
        "    c_next = tf.math.multiply(c_t, i_t) + tf.math.multiply(f_t, c_prev)\n",
        "\n",
        "    # calculate main ouput gate\n",
        "    # o_t = σ(W_xo * x_t + W_h0 * h_t-1 + W_co * c_t + b_o)\n",
        "    o_t = self.dense_output(input_t, h_prev)\n",
        "\n",
        "    # produce next hidden output\n",
        "    # h_t = o_t * tanh(c_next)\n",
        "    h_next = tf.math.multiply(o_t, self.final_activation(c_next))\n",
        "\n",
        "    return h_next, c_next"
      ],
      "metadata": {
        "id": "RKpF396nwrgz"
      },
      "execution_count": 5,
      "outputs": []
    },
    {
      "cell_type": "markdown",
      "source": [
        "## Layer"
      ],
      "metadata": {
        "id": "P84haV2VLHRh"
      }
    },
    {
      "cell_type": "code",
      "source": [
        "# unrolling cells\n",
        "class LSTM_layer(tf.keras.layers.Layer):\n",
        "  def __init__(self, cell):\n",
        "    super(LSTM_layer, self).__init__()\n",
        "    self.cell = cell\n",
        "  \n",
        "  def __call__(self, x, states):\n",
        "    # data length\n",
        "    len = x.shape[1]\n",
        "\n",
        "   # initialize ouput list\n",
        "    outputs = []\n",
        "    for time_step in tf.range(len):\n",
        "      input_t = x[:, time_step, :]\n",
        "      states = self.cell.call(input_t, states)\n",
        "      outputs.append(states)\n",
        "\n",
        "    return outputs[-1]  \n",
        "  \n",
        "  \n",
        "  \n",
        "  def zero_states(self, batch_size):\n",
        "    tuple_tensor = (tf.zeros(shape=(batch_size, 1)), tf.zeros(shape=(batch_size, 1)))\n",
        "    return tuple_tensor\n",
        "\n"
      ],
      "metadata": {
        "id": "zNabvUxE9fUo"
      },
      "execution_count": 6,
      "outputs": []
    },
    {
      "cell_type": "markdown",
      "source": [
        "## Model"
      ],
      "metadata": {
        "id": "FKYpzWpKLMMp"
      }
    },
    {
      "cell_type": "code",
      "source": [
        "class LSTM_Model(tf.keras.Model):\n",
        "  def __init__(self, units):\n",
        "    super(LSTM_Model, self).__init__()\n",
        "    \n",
        "    self.dense_in = Dense(32, activation=\"sigmoid\")\n",
        "    self.LSTM_wrapper = LSTM_layer(LSTM_cell(units))\n",
        "    self.read_out = Dense(1, activation=\"sigmoid\")\n",
        "      \n",
        "\n",
        "  def call(self, x):\n",
        "    \n",
        "    x = self.dense_in(x)\n",
        "    x = self.LSTM_wrapper(x, self.LSTM_wrapper.zero_states(batch_size))\n",
        "    x = self.read_out(x)\n",
        "    \n",
        "    return x"
      ],
      "metadata": {
        "id": "ey5aKc8dHR67"
      },
      "execution_count": 7,
      "outputs": []
    },
    {
      "cell_type": "markdown",
      "source": [
        "# Visualization"
      ],
      "metadata": {
        "id": "9mpoNFVTdto0"
      }
    },
    {
      "cell_type": "code",
      "source": [
        "# Description: This function visualizes the losses and accuracies of training and testing\n",
        "#              @parameters: train_losses, test_losses, train_accuracies, test_accuracies\n",
        "#              @returns: plot\n",
        "\n",
        "def visualization(train_losses, test_losses, train_accuracies, test_accuracies):\n",
        "  # Visualization of losses\n",
        "  plt.figure()\n",
        "  line1, = plt.plot(train_losses)\n",
        "  line2, = plt.plot(test_losses)\n",
        "  plt.title(\"Training and testing loss\")\n",
        "  plt.xlabel(\"Training steps\")\n",
        "  plt.ylabel(\"loss\")\n",
        "  plt.legend((line1, line2), (\"Training\", \"Testing\"), fontsize=12)\n",
        "  plt.show()\n",
        "\n",
        "  #Visualization of accuracies\n",
        "  plt.figure()\n",
        "  line3, = plt.plot(test_accuracies)\n",
        "  line4, = plt.plot(train_accuracies)\n",
        "  plt.title(\"Training and testing accuracies\")\n",
        "  plt.xlabel(\"Training steps\")\n",
        "  plt.ylabel(\"Accuracy\")\n",
        "  plt.legend((line3, line4),(\"test accuracy\", \"train accuracy\"), fontsize = 12)\n",
        "  plt.show()"
      ],
      "metadata": {
        "id": "l5l1w04FdsV2"
      },
      "execution_count": 8,
      "outputs": []
    },
    {
      "cell_type": "markdown",
      "source": [
        "# Training"
      ],
      "metadata": {
        "id": "8c_MoEoMLQRK"
      }
    },
    {
      "cell_type": "markdown",
      "source": [
        "# Main"
      ],
      "metadata": {
        "id": "Wbsm3etOLSDD"
      }
    },
    {
      "cell_type": "markdown",
      "source": [
        "### Creating dataset"
      ],
      "metadata": {
        "id": "wV418NGoL6IZ"
      }
    },
    {
      "cell_type": "code",
      "source": [
        "with tf.device('/device:cpu:0'):\n",
        "  # create tensorflow dataset\n",
        "  ds = tf.data.Dataset.from_generator(\n",
        "      my_integration_task, \n",
        "      output_signature= (\n",
        "          tf.TensorSpec(shape = (25, 1), dtype = tf.float32),\n",
        "          tf.TensorSpec(shape = (1), dtype = tf.uint8)))"
      ],
      "metadata": {
        "id": "qRMfv05LLiYD"
      },
      "execution_count": 9,
      "outputs": []
    },
    {
      "cell_type": "markdown",
      "source": [
        "### Training"
      ],
      "metadata": {
        "id": "C47_ECYpMWBJ"
      }
    },
    {
      "cell_type": "code",
      "source": [
        "with tf.device('/device:cpu:0'):\n",
        "  ### Hyperparameters\n",
        "  num_epochs = 10\n",
        "  learning_rate = 0.01\n",
        "  train_size = 70000\n",
        "  test_size = 10000\n",
        "  units = 32\n",
        "  batch_size = 100\n",
        "\n",
        "  ds = prepare_data(ds)\n",
        "  train_dataset = ds.take(train_size)\n",
        "  ds.skip(train_size)\n",
        "  test_dataset = ds.take(test_size)\n",
        "\n",
        "  # Initialize the model.\n",
        "  model = LSTM_Model(units)\n",
        "\n",
        "  # Initialize the loss: binary cross entropy\n",
        "  b_cross_entropy_loss = tf.keras.losses.BinaryCrossentropy()\n",
        "\n",
        "  #initializ optimizer\n",
        "  opt = tf.keras.optimizers.Adam(learning_rate)\n",
        "  \n",
        "  # Initialize lists for later visualization.\n",
        "  train_losses = []\n",
        "  test_losses = []\n",
        "\n",
        "  train_accuracies = []\n",
        "  test_accuracies = []\n",
        "\n",
        "  #testing once before we begin\n",
        "  test_loss, test_accuracy = test(model, test_dataset, b_cross_entropy_loss)\n",
        "  test_losses.append(test_loss)\n",
        "  test_accuracies.append(test_accuracy)\n",
        "\n",
        "  #check how model performs on train data once before we begin\n",
        "  train_loss, train_accuracy = test(model, train_dataset, b_cross_entropy_loss)\n",
        "  train_losses.append(train_loss)\n",
        "  train_accuracies.append(train_accuracy)\n",
        "\n",
        "\n",
        "  # We train for num_epochs epochs\n",
        "  for epoch in range(num_epochs):\n",
        "\n",
        "      #training (and checking in with training)\n",
        "      epoch_loss_agg = []\n",
        "      epoch_acc_agg = []\n",
        "      for input,target in train_dataset:\n",
        "          train_loss, train_accuracy = train_step(model, input, target, b_cross_entropy_loss, opt)\n",
        "          epoch_loss_agg.append(train_loss)\n",
        "\n",
        "          #track training loss\n",
        "      train_losses.append(tf.reduce_mean(epoch_loss_agg))\n",
        "      # tracking train accuracy\n",
        "      train_accuracies.append(tf.reduce_mean(train_accuracy))\n",
        "\n",
        "      #testing, so we can track accuracy and test loss\n",
        "      test_loss, test_accuracy = test(model, test_dataset, b_cross_entropy_loss)\n",
        "      test_losses.append(test_loss)\n",
        "      test_accuracies.append(test_accuracy)\n",
        "\n",
        "  visualization(train_losses, test_losses, train_accuracies, test_accuracies)"
      ],
      "metadata": {
        "colab": {
          "base_uri": "https://localhost:8080/",
          "height": 573
        },
        "id": "Wye5CHfjJixk",
        "outputId": "18edd32a-6520-47da-aaf7-8706687c346c"
      },
      "execution_count": 10,
      "outputs": [
        {
          "output_type": "display_data",
          "data": {
            "image/png": "[encoded data removed]",
            "text/plain": [
              "<Figure size 432x288 with 1 Axes>"
            ]
          },
          "metadata": {
            "needs_background": "light"
          }
        },
        {
          "output_type": "display_data",
          "data": {
            "image/png": "[encoded data removed]",
            "text/plain": [
              "<Figure size 432x288 with 1 Axes>"
            ]
          },
          "metadata": {
            "needs_background": "light"
          }
        }
      ]
    }
  ]
}
